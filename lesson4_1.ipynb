{
 "cells": [
  {
   "cell_type": "code",
   "execution_count": 8,
   "metadata": {},
   "outputs": [
    {
     "name": "stdout",
     "output_type": "stream",
     "text": [
      "請輸入學生分數(最高分300):\n",
      "學生分數為 200\n"
     ]
    }
   ],
   "source": [
    "#學生總分為300\n",
    "import pyinputplus as pyip\n",
    "\n",
    "#pyip.inputInt(\"請輸入學生分數(最高分300):\")\n",
    "scores = pyip.inputInt(\"請輸入學生分數(最高分300):\")\n",
    "print()\n",
    "print(\"學生分數為\",scores)"
   ]
  },
  {
   "cell_type": "code",
   "execution_count": 9,
   "metadata": {},
   "outputs": [
    {
     "name": "stdout",
     "output_type": "stream",
     "text": [
      "請輸入學生分數(最高分300):\n",
      "學生分數為 158\n"
     ]
    }
   ],
   "source": [
    "#學生總分為300\n",
    "import pyinputplus as pyip\n",
    "\n",
    "#pyip.inputInt(\"請輸入學生分數(最高分300):\")\n",
    "scores = pyip.inputInt(\"請輸入學生分數(最高分300):\")\n",
    "print(\"\\n學生分數為\",scores)"
   ]
  },
  {
   "cell_type": "code",
   "execution_count": 17,
   "metadata": {},
   "outputs": [
    {
     "name": "stdout",
     "output_type": "stream",
     "text": [
      "請輸入學生分數(最高分300):\n",
      "學生bobo分數為300\n"
     ]
    }
   ],
   "source": [
    "#學生總分為300\n",
    "import pyinputplus as pyip\n",
    "\n",
    "#pyip.inputInt(\"請輸入學生分數(最高分300):\")\n",
    "scores = pyip.inputInt(\"請輸入學生分數(最高分300):\")\n",
    "name=\"bobo\"\n",
    "print()\n",
    "print(f\"學生{name}分數為{scores}\")\n"
   ]
  },
  {
   "cell_type": "code",
   "execution_count": 19,
   "metadata": {},
   "outputs": [
    {
     "name": "stdout",
     "output_type": "stream",
     "text": [
      "請輸入學生分數(最高分300):\n",
      "北七\n"
     ]
    }
   ],
   "source": [
    "#學生總分為300\n",
    "import pyinputplus as pyip\n",
    "\n",
    "#pyip.inputInt(\"請輸入學生分數(最高分300):\")\n",
    "scores = pyip.inputInt(\"請輸入學生分數(最高分300):\")\n",
    "name=\"bobo\"\n",
    "print()\n",
    "if scores <= 300:\n",
    "    print(f\"學生{name}分數為{scores}\")\n",
    "else:\n",
    "    print(f\"北七\")\n",
    "\n",
    "\n"
   ]
  },
  {
   "cell_type": "code",
   "execution_count": 21,
   "metadata": {},
   "outputs": [
    {
     "name": "stdout",
     "output_type": "stream",
     "text": [
      "請輸入學生分數(最高分300):Number must be at maximum 300.\n",
      "請輸入學生分數(最高分300):Number must be at minimum 0.\n",
      "請輸入學生分數(最高分300):\n",
      "學生bobo分數為200\n"
     ]
    }
   ],
   "source": [
    "#學生總分為300\n",
    "import pyinputplus as pyip\n",
    "\n",
    "#pyip.inputInt(\"請輸入學生分數(最高分300):\")\n",
    "scores = pyip.inputInt(\"請輸入學生分數(最高分300):\",min=0,max=300)\n",
    "name=\"bobo\"\n",
    "print()\n",
    "print(f\"學生{name}分數為{scores}\")\n"
   ]
  },
  {
   "cell_type": "code",
   "execution_count": 40,
   "metadata": {},
   "outputs": [
    {
     "name": "stdout",
     "output_type": "stream",
     "text": [
      "請輸入學生分數(最高分300):\n",
      "學生是否有符合加分條件?\n",
      "200 True\n"
     ]
    }
   ],
   "source": [
    "#學生總分為300分\n",
    "#有些學生可以加分5%\n",
    "#如果加分超過300分,就以300分為準\n",
    "import pyinputplus as pyip\n",
    "\n",
    "#pyip.inputInt(\"請輸入學生分數(最高分300):\")\n",
    "scores = pyip.inputInt(\"請輸入學生分數(最高分300):\",min=0,max=300)\n",
    "print()\n",
    "isyes = pyip.inputBool(\"學生是否有符合加分條件?\",trueVal=\"T\",falseVal=\"F\")\n",
    "print()\n",
    "print( scores,isyes)\n",
    "#print(isyes)"
   ]
  },
  {
   "cell_type": "code",
   "execution_count": 37,
   "metadata": {},
   "outputs": [
    {
     "name": "stdout",
     "output_type": "stream",
     "text": [
      "請輸入學生分數(最高分300):Number must be at maximum 300.\n",
      "請輸入學生分數(最高分300):200\n",
      "學生是否符合加分條件(請選擇1或2)?\n",
      "1. y\n",
      "2. n\n",
      "'3' is not a valid choice.\n",
      "學生是否符合加分條件(請選擇1或2)?\n",
      "1. y\n",
      "2. n\n",
      "加分\n"
     ]
    }
   ],
   "source": [
    "#學生總分為300分\n",
    "#有些學生可以加分5%\n",
    "#如果加分超過300分,就以300分為準\n",
    "import pyinputplus as pyip\n",
    "\n",
    "#pyip.inputInt(\"請輸入學生分數(最高分300):\")\n",
    "scores = pyip.inputInt(\"請輸入學生分數(最高分300):\",min=0,max=300)\n",
    "print(scores)\n",
    "isyes = pyip.inputMenu(['y','n'],prompt=\"學生是否符合加分條件(請選擇1或2)?\\n\",numbered=True)\n",
    "if isyes == 'y':\n",
    "    print(\"加分\")\n",
    "else:\n",
    "    print(\"減分\")\n"
   ]
  },
  {
   "cell_type": "code",
   "execution_count": 50,
   "metadata": {},
   "outputs": [
    {
     "name": "stdout",
     "output_type": "stream",
     "text": [
      "請輸入學生分數(最高分300):270\n",
      "學生是否符合加分條件(請選擇1或2)?\n",
      "1. 有\n",
      "2. 無\n",
      "學生分數為283.5\n"
     ]
    }
   ],
   "source": [
    "#學生總分為300分\n",
    "#有些學生可以加分5%\n",
    "#如果加分超過300分,就以300分為準\n",
    "\n",
    "import pyinputplus as pyip\n",
    "\n",
    "#pyip.inputInt(\"請輸入學生分數(最高分300):\")\n",
    "scores = pyip.inputInt(\"請輸入學生分數(最高分300):\",min=0,max=300)\n",
    "print(scores)\n",
    "isyes = pyip.inputMenu(['有','無'],prompt=\"學生是否符合加分條件(請選擇1或2)?\\n\",numbered=True)\n",
    "if isyes == '有':\n",
    "    scores *= 1.05\n",
    "    if scores >300:\n",
    "        scores =300\n",
    "print (f\"學生分數為{scores}\")\n",
    "    "
   ]
  },
  {
   "cell_type": "code",
   "execution_count": 55,
   "metadata": {},
   "outputs": [
    {
     "name": "stdout",
     "output_type": "stream",
     "text": [
      "請輸入分數:89\n",
      "優\n"
     ]
    }
   ],
   "source": [
    "scores = pyip.inputInt(\"請輸入分數:\")\n",
    "print(scores)\n",
    "if scores <60:\n",
    "    print(\"不及格\")\n",
    "else:\n",
    "    if scores >= 80:\n",
    "        print(\"優\")\n",
    "    else :\n",
    "        print(\"甲\")\n"
   ]
  },
  {
   "cell_type": "code",
   "execution_count": 60,
   "metadata": {},
   "outputs": [
    {
     "name": "stdout",
     "output_type": "stream",
     "text": [
      "甲\n"
     ]
    }
   ],
   "source": [
    "scores = pyip.inputInt()\n",
    "if scores <60:\n",
    "    print(\"不及格\")\n",
    "elif scores>=80 :\n",
    "    print(\"優\")\n",
    "else :\n",
    "    print(\"甲\")\n",
    "\n"
   ]
  },
  {
   "cell_type": "code",
   "execution_count": 72,
   "metadata": {},
   "outputs": [
    {
     "name": "stdout",
     "output_type": "stream",
     "text": [
      "廢物! \n",
      "丁\n"
     ]
    }
   ],
   "source": [
    "scores = pyip.inputInt()\n",
    "\n",
    "if scores >= 90:\n",
    "    print(\"根本天才!! \\n優\")\n",
    "elif scores >= 80:\n",
    "    print(\"很優秀! \\n甲\")\n",
    "elif scores >= 70:\n",
    "    print(\"讀得不錯 繼續保持! \\n乙\")\n",
    "elif scores >= 60:\n",
    "    print(\"丙\")\n",
    "else:\n",
    "    print(\"廢物! \\n丁\")\n"
   ]
  }
 ],
 "metadata": {
  "kernelspec": {
   "display_name": "Python 3",
   "language": "python",
   "name": "python3"
  },
  "language_info": {
   "codemirror_mode": {
    "name": "ipython",
    "version": 3
   },
   "file_extension": ".py",
   "mimetype": "text/x-python",
   "name": "python",
   "nbconvert_exporter": "python",
   "pygments_lexer": "ipython3",
   "version": "3.10.13"
  }
 },
 "nbformat": 4,
 "nbformat_minor": 2
}
