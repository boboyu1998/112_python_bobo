{
 "cells": [
  {
   "cell_type": "code",
   "execution_count": 26,
   "metadata": {},
   "outputs": [
    {
     "name": "stdout",
     "output_type": "stream",
     "text": [
      "=========猜數字遊戲===========\n",
      "\n",
      "請在努力!!\n",
      "請在努力!!\n",
      "猜對了\n",
      "您猜了3次\n",
      "遊戲結束\n"
     ]
    }
   ],
   "source": [
    "import random\n",
    "min = 1\n",
    "max = 10\n",
    "count=0\n",
    "target = random.randint(min,max)\n",
    "print(\"=========猜數字遊戲===========\\n\")\n",
    "while (True):\n",
    "    keyin = int(input(f\"猜數字的範圍{min}~{max}\"))\n",
    "    count += 1\n",
    "    if(keyin >= min and keyin <= max):\n",
    "        if keyin == target:\n",
    "            print(\"猜對了\")\n",
    "            break\n",
    "        else:\n",
    "            print(\"請在努力!!\")\n",
    "            continue\n",
    "    else:\n",
    "        print(\"請輸入提示範圍內的數字\")\n",
    "print(f\"您猜了{count}次\")\n",
    "print(\"遊戲結束\")"
   ]
  },
  {
   "cell_type": "code",
   "execution_count": 4,
   "metadata": {},
   "outputs": [
    {
     "name": "stdout",
     "output_type": "stream",
     "text": [
      "=========猜數字遊戲===========\n",
      "\n",
      "請再大一點\n",
      "加油 您已經猜了1次\n",
      "請再小一點\n",
      "加油 您已經猜了2次\n",
      "請再小一點\n",
      "加油 您已經猜了3次\n",
      "請再大一點\n",
      "加油 您已經猜了4次\n",
      "猜對了\n",
      "您猜了5次\n",
      "遊戲結束\n"
     ]
    }
   ],
   "source": [
    "import random\n",
    "min = 1\n",
    "max = 100\n",
    "count=0\n",
    "target = random.randint(min,max)\n",
    "print(\"=========猜數字遊戲===========\\n\")\n",
    "while (True):\n",
    "    keyin = int(input(f\"猜數字的範圍{min}~{max}\"))\n",
    "    count += 1\n",
    "    if(keyin >= min and keyin <= max):\n",
    "        if keyin == target:\n",
    "            print(\"猜對了\")\n",
    "            break\n",
    "        elif keyin > target:\n",
    "            print(\"請再小一點\")\n",
    "            max = keyin - 1\n",
    "        elif keyin < target:\n",
    "            print(\"請再大一點\")\n",
    "            min = keyin + 1\n",
    "        print(f\"加油 您已經猜了{count}次\") \n",
    "        continue\n",
    "    else:\n",
    "        print(\"請輸入提示範圍內的數字\")\n",
    "print(f\"您猜了{count}次\")\n",
    "print(\"遊戲結束\")"
   ]
  },
  {
   "cell_type": "code",
   "execution_count": null,
   "metadata": {},
   "outputs": [],
   "source": []
  }
 ],
 "metadata": {
  "kernelspec": {
   "display_name": "Python 3",
   "language": "python",
   "name": "python3"
  },
  "language_info": {
   "codemirror_mode": {
    "name": "ipython",
    "version": 3
   },
   "file_extension": ".py",
   "mimetype": "text/x-python",
   "name": "python",
   "nbconvert_exporter": "python",
   "pygments_lexer": "ipython3",
   "version": "3.10.13"
  }
 },
 "nbformat": 4,
 "nbformat_minor": 2
}
