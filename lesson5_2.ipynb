{
 "cells": [
  {
   "cell_type": "code",
   "execution_count": 2,
   "metadata": {},
   "outputs": [
    {
     "name": "stdout",
     "output_type": "stream",
     "text": [
      "1\n",
      "2\n",
      "3\n",
      "4\n",
      "5\n",
      "6\n",
      "7\n",
      "8\n",
      "9\n",
      "10\n"
     ]
    }
   ],
   "source": [
    "import random\n",
    "\n",
    "n = 1\n",
    "while n<=10:\n",
    "    print(n)\n",
    "    n += 1"
   ]
  },
  {
   "cell_type": "code",
   "execution_count": 6,
   "metadata": {},
   "outputs": [
    {
     "name": "stdout",
     "output_type": "stream",
     "text": [
      "1\n",
      "7\n",
      "17\n",
      "25\n",
      "30\n",
      "38\n",
      "39\n",
      "47\n",
      "55\n",
      "57\n",
      "67\n",
      "76\n",
      "84\n",
      "90\n",
      "95\n"
     ]
    }
   ],
   "source": [
    "import random\n",
    "n = 1\n",
    "while n<=100:\n",
    "    print(n)\n",
    "    n += random.randint(1,10)"
   ]
  },
  {
   "cell_type": "code",
   "execution_count": 11,
   "metadata": {},
   "outputs": [
    {
     "name": "stdout",
     "output_type": "stream",
     "text": [
      "應用程式結束\n"
     ]
    }
   ],
   "source": [
    "#奇數輸出平方值\n",
    "#偶數輸出原來的值\n",
    "#'q'離開\n",
    "\n",
    "while True:\n",
    "    value = input(\"請輸入整數,輸入(q)離開:\")\n",
    "    if value == \"q\":\n",
    "        break \n",
    "print(\"應用程式結束\")\n",
    "\n"
   ]
  },
  {
   "cell_type": "code",
   "execution_count": 14,
   "metadata": {},
   "outputs": [
    {
     "name": "stdout",
     "output_type": "stream",
     "text": [
      "34\n",
      "2025\n",
      "84\n",
      "22\n",
      "44\n",
      "12\n",
      "441\n",
      "625\n",
      "94\n",
      "7569\n",
      "961\n",
      "應用程式結束\n"
     ]
    }
   ],
   "source": [
    "#奇數輸出平方值\n",
    "#偶數輸出原來的值\n",
    "#'q'離開\n",
    "\n",
    "while True:\n",
    "    value = input(\"請輸入整數,輸入(q)離開:\")\n",
    "    if value == \"q\":\n",
    "        break \n",
    "    value = int(value)\n",
    "    if value % 2 == 1:\n",
    "        print(value ** 2)\n",
    "    else:    \n",
    "        print(value)\n",
    "print(\"應用程式結束\")\n"
   ]
  },
  {
   "cell_type": "code",
   "execution_count": 28,
   "metadata": {},
   "outputs": [
    {
     "name": "stdout",
     "output_type": "stream",
     "text": [
      "應用程式結束\n",
      "總共執行1次\n",
      "4\n",
      "應用程式結束\n",
      "總共執行2次\n",
      "10\n"
     ]
    }
   ],
   "source": [
    "#請設計一個程式，讓使用者輸入數值，只有加總政偶數值，不加總數正奇數，如果輸入負數，結束程式。\n",
    "\n",
    "total = 0\n",
    "num = 0\n",
    "while (True):\n",
    "    value = int(input(f\"請輸入第{num+1}數值:\"))\n",
    "    if value <0:\n",
    "        break\n",
    "    elif value % 2 == 1 :\n",
    "        num += 1   \n",
    "        continue\n",
    "    else:\n",
    "        num += 1\n",
    "        total += value\n",
    "    print(\"應用程式結束\")\n",
    "    print(f\"總共執行{num}次\")\n",
    "    print(total)"
   ]
  }
 ],
 "metadata": {
  "kernelspec": {
   "display_name": "Python 3",
   "language": "python",
   "name": "python3"
  },
  "language_info": {
   "codemirror_mode": {
    "name": "ipython",
    "version": 3
   },
   "file_extension": ".py",
   "mimetype": "text/x-python",
   "name": "python",
   "nbconvert_exporter": "python",
   "pygments_lexer": "ipython3",
   "version": "3.10.13"
  }
 },
 "nbformat": 4,
 "nbformat_minor": 2
}
