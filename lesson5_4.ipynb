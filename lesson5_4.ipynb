{
 "cells": [
  {
   "cell_type": "code",
   "execution_count": 49,
   "metadata": {},
   "outputs": [],
   "source": [
    "import random\n",
    "def playgame(max:int,min:int) -> None:\n",
    "        count=0\n",
    "        target = random.randint(min,max)\n",
    "        print(\"=========猜數字遊戲===========\\n\")\n",
    "        while (True):\n",
    "            keyin = int(input(f\"猜數字的範圍{min}~{max}\"))\n",
    "            count += 1\n",
    "            if(keyin >= min and keyin <= max):\n",
    "             if keyin == target:\n",
    "                print(\"猜對了\")\n",
    "                break\n",
    "            elif keyin > target:\n",
    "                print(\"請再小一點\")\n",
    "                max = keyin - 1\n",
    "            elif keyin < target:\n",
    "                print(\"請再大一點\")\n",
    "                min = keyin + 1\n",
    "            print(f\"加油 您已經猜了{count}次\") \n",
    "            continue\n",
    "        else:\n",
    "            print(\"請輸入提示範圍內的數字\")\n",
    "        print(f\"您猜了{count}次\")\n",
    "        print(\"遊戲結束\")"
   ]
  },
  {
   "cell_type": "code",
   "execution_count": 50,
   "metadata": {},
   "outputs": [
    {
     "name": "stdout",
     "output_type": "stream",
     "text": [
      "=========猜數字遊戲===========\n",
      "\n",
      "加油 您已經猜了1次\n",
      "加油 您已經猜了2次\n",
      "加油 您已經猜了3次\n",
      "加油 您已經猜了4次\n",
      "加油 您已經猜了5次\n",
      "加油 您已經猜了6次\n",
      "加油 您已經猜了7次\n",
      "加油 您已經猜了8次\n",
      "加油 您已經猜了9次\n",
      "請再小一點\n",
      "加油 您已經猜了10次\n",
      "加油 您已經猜了11次\n",
      "加油 您已經猜了12次\n",
      "加油 您已經猜了13次\n",
      "加油 您已經猜了14次\n",
      "加油 您已經猜了15次\n",
      "加油 您已經猜了16次\n",
      "加油 您已經猜了17次\n",
      "加油 您已經猜了18次\n",
      "加油 您已經猜了19次\n",
      "加油 您已經猜了20次\n",
      "請再小一點\n",
      "加油 您已經猜了21次\n",
      "加油 您已經猜了22次\n",
      "請再大一點\n",
      "加油 您已經猜了23次\n"
     ]
    },
    {
     "ename": "ValueError",
     "evalue": "invalid literal for int() with base 10: ''",
     "output_type": "error",
     "traceback": [
      "\u001b[0;31m---------------------------------------------------------------------------\u001b[0m",
      "\u001b[0;31mValueError\u001b[0m                                Traceback (most recent call last)",
      "\u001b[1;32m/workspaces/112_python_bobo/lesson5_4.ipynb Cell 2\u001b[0m line \u001b[0;36m1\n\u001b[0;32m----> <a href='vscode-notebook-cell://codespaces%2Bsymmetrical-space-system-979pqvg466x7f9p5g/workspaces/112_python_bobo/lesson5_4.ipynb#W1sdnNjb2RlLXJlbW90ZQ%3D%3D?line=0'>1</a>\u001b[0m playgame(\u001b[39m100\u001b[39;49m,\u001b[39m10\u001b[39;49m)\n",
      "\u001b[1;32m/workspaces/112_python_bobo/lesson5_4.ipynb Cell 2\u001b[0m line \u001b[0;36m7\n\u001b[1;32m      <a href='vscode-notebook-cell://codespaces%2Bsymmetrical-space-system-979pqvg466x7f9p5g/workspaces/112_python_bobo/lesson5_4.ipynb#W1sdnNjb2RlLXJlbW90ZQ%3D%3D?line=4'>5</a>\u001b[0m \u001b[39mprint\u001b[39m(\u001b[39m\"\u001b[39m\u001b[39m=========猜數字遊戲===========\u001b[39m\u001b[39m\\n\u001b[39;00m\u001b[39m\"\u001b[39m)\n\u001b[1;32m      <a href='vscode-notebook-cell://codespaces%2Bsymmetrical-space-system-979pqvg466x7f9p5g/workspaces/112_python_bobo/lesson5_4.ipynb#W1sdnNjb2RlLXJlbW90ZQ%3D%3D?line=5'>6</a>\u001b[0m \u001b[39mwhile\u001b[39;00m (\u001b[39mTrue\u001b[39;00m):\n\u001b[0;32m----> <a href='vscode-notebook-cell://codespaces%2Bsymmetrical-space-system-979pqvg466x7f9p5g/workspaces/112_python_bobo/lesson5_4.ipynb#W1sdnNjb2RlLXJlbW90ZQ%3D%3D?line=6'>7</a>\u001b[0m     keyin \u001b[39m=\u001b[39m \u001b[39mint\u001b[39;49m(\u001b[39minput\u001b[39;49m(\u001b[39mf\u001b[39;49m\u001b[39m\"\u001b[39;49m\u001b[39m猜數字的範圍\u001b[39;49m\u001b[39m{\u001b[39;49;00m\u001b[39mmin\u001b[39;49m\u001b[39m}\u001b[39;49;00m\u001b[39m~\u001b[39;49m\u001b[39m{\u001b[39;49;00m\u001b[39mmax\u001b[39;49m\u001b[39m}\u001b[39;49;00m\u001b[39m\"\u001b[39;49m))\n\u001b[1;32m      <a href='vscode-notebook-cell://codespaces%2Bsymmetrical-space-system-979pqvg466x7f9p5g/workspaces/112_python_bobo/lesson5_4.ipynb#W1sdnNjb2RlLXJlbW90ZQ%3D%3D?line=7'>8</a>\u001b[0m     count \u001b[39m+\u001b[39m\u001b[39m=\u001b[39m \u001b[39m1\u001b[39m\n\u001b[1;32m      <a href='vscode-notebook-cell://codespaces%2Bsymmetrical-space-system-979pqvg466x7f9p5g/workspaces/112_python_bobo/lesson5_4.ipynb#W1sdnNjb2RlLXJlbW90ZQ%3D%3D?line=8'>9</a>\u001b[0m     \u001b[39mif\u001b[39;00m(keyin \u001b[39m>\u001b[39m\u001b[39m=\u001b[39m \u001b[39mmin\u001b[39m \u001b[39mand\u001b[39;00m keyin \u001b[39m<\u001b[39m\u001b[39m=\u001b[39m \u001b[39mmax\u001b[39m):\n",
      "\u001b[0;31mValueError\u001b[0m: invalid literal for int() with base 10: ''"
     ]
    }
   ],
   "source": [
    "playgame(100,10)\n"
   ]
  }
 ],
 "metadata": {
  "kernelspec": {
   "display_name": "Python 3",
   "language": "python",
   "name": "python3"
  },
  "language_info": {
   "codemirror_mode": {
    "name": "ipython",
    "version": 3
   },
   "file_extension": ".py",
   "mimetype": "text/x-python",
   "name": "python",
   "nbconvert_exporter": "python",
   "pygments_lexer": "ipython3",
   "version": "3.10.13"
  }
 },
 "nbformat": 4,
 "nbformat_minor": 2
}
