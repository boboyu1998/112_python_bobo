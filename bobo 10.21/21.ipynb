{
 "cells": [
  {
   "cell_type": "code",
   "execution_count": 18,
   "metadata": {},
   "outputs": [
    {
     "name": "stdout",
     "output_type": "stream",
     "text": [
      "請輸入數值:"
     ]
    }
   ],
   "source": [
    "\n",
    "import pyinputplus as pyip\n",
    "x = pyip.inputInt(\"請輸入數值:\")\n",
    "\n",
    "if x >= 0 :\n",
    "    print(\"x ** (1/y)\")\n",
    "else:\n",
    "    if x % 2 == 0:\n",
    "\n"
   ]
  },
  {
   "cell_type": "code",
   "execution_count": 2,
   "metadata": {},
   "outputs": [
    {
     "name": "stdout",
     "output_type": "stream",
     "text": [
      "請輸入數值:虛數\n"
     ]
    }
   ],
   "source": [
    "import pyinputplus as pyip\n",
    "x = pyip.inputInt(\"請輸入數值:\")\n",
    "y=2\n",
    "\n",
    "if x >= 0:\n",
    "    print(\"不是負數\")\n",
    "    a = x **(1/y)\n",
    "else:\n",
    "    if x % 2 == 0:\n",
    "        a= \"虛數\"\n",
    "    else:\n",
    "        a = -(-x)**(1/y)\n",
    "print(a)\n"
   ]
  },
  {
   "cell_type": "code",
   "execution_count": 11,
   "metadata": {},
   "outputs": [
    {
     "name": "stdout",
     "output_type": "stream",
     "text": [
      "請輸入購買金額:130000\n",
      "104000.0\n"
     ]
    }
   ],
   "source": [
    "#作業\n",
    "\n",
    "\n",
    "import pyinputplus as pyip\n",
    "x = pyip.inputInt(\"請輸入購買金額:\")\n",
    "print(x)\n",
    "if x >= 100000 :\n",
    "    x *= 0.8\n",
    "    print(x)\n",
    "elif x>= 50000:\n",
    "    x *= 0.85\n",
    "    print(x)\n",
    "elif x >= 30000:\n",
    "    x *= 0.9\n",
    "    print(x)\n",
    "elif x >= 10000:\n",
    "    x *= 0.95\n",
    "    print(x)\n",
    "else :\n",
    "    print(x)\n"
   ]
  }
 ],
 "metadata": {
  "kernelspec": {
   "display_name": "Python 3",
   "language": "python",
   "name": "python3"
  },
  "language_info": {
   "codemirror_mode": {
    "name": "ipython",
    "version": 3
   },
   "file_extension": ".py",
   "mimetype": "text/x-python",
   "name": "python",
   "nbconvert_exporter": "python",
   "pygments_lexer": "ipython3",
   "version": "3.10.13"
  }
 },
 "nbformat": 4,
 "nbformat_minor": 2
}
