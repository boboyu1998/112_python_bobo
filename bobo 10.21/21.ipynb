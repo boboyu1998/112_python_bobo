{
 "cells": [
  {
   "cell_type": "code",
   "execution_count": 49,
   "metadata": {},
   "outputs": [
    {
     "ename": "SyntaxError",
     "evalue": "incomplete input (3355948308.py, line 8)",
     "output_type": "error",
     "traceback": [
      "\u001b[0;36m  Cell \u001b[0;32mIn[49], line 8\u001b[0;36m\u001b[0m\n\u001b[0;31m    \u001b[0m\n\u001b[0m    ^\u001b[0m\n\u001b[0;31mSyntaxError\u001b[0m\u001b[0;31m:\u001b[0m incomplete input\n"
     ]
    }
   ],
   "source": [
    "\n",
    "import pyinputplus as pyip\n",
    "x = pyip.inputInt(\"請輸入數值:\")\n",
    "\n",
    "if x >= 0 :\n",
    "    print(\"x ** (1/y)\")\n",
    "else:\n",
    "    if x % 2 == 0:\n",
    "\n"
   ]
  },
  {
   "cell_type": "code",
   "execution_count": null,
   "metadata": {},
   "outputs": [
    {
     "name": "stdout",
     "output_type": "stream",
     "text": [
      "請輸入數值:虛數\n"
     ]
    }
   ],
   "source": [
    "import pyinputplus as pyip\n",
    "x = pyip.inputInt(\"請輸入數值:\")\n",
    "y=2\n",
    "\n",
    "if x >= 0:\n",
    "    print(\"不是負數\")\n",
    "    a = x **(1/y)\n",
    "else:\n",
    "    if x % 2 == 0:\n",
    "        a= \"虛數\"\n",
    "    else:\n",
    "        a = -(-x)**(1/y)\n",
    "print(a)\n"
   ]
  },
  {
   "cell_type": "code",
   "execution_count": null,
   "metadata": {},
   "outputs": [
    {
     "name": "stdout",
     "output_type": "stream",
     "text": [
      "請輸入購買金額:130000\n",
      "104000.0\n"
     ]
    }
   ],
   "source": [
    "#作業1\n",
    "\n",
    "\n",
    "import pyinputplus as pyip\n",
    "x = pyip.inputInt(\"請輸入購買金額:\")\n",
    "print(x)\n",
    "if x >= 100000 :\n",
    "    x *= 0.8\n",
    "    print(x)\n",
    "elif x>= 50000:\n",
    "    x *= 0.85\n",
    "    print(x)\n",
    "elif x >= 30000:\n",
    "    x *= 0.9\n",
    "    print(x)\n",
    "elif x >= 10000:\n",
    "    x *= 0.95\n",
    "    print(x)\n",
    "else :\n",
    "    print(x)\n"
   ]
  },
  {
   "cell_type": "code",
   "execution_count": null,
   "metadata": {},
   "outputs": [
    {
     "ename": "SyntaxError",
     "evalue": "invalid syntax (2118906814.py, line 3)",
     "output_type": "error",
     "traceback": [
      "\u001b[0;36m  Cell \u001b[0;32mIn[1], line 3\u001b[0;36m\u001b[0m\n\u001b[0;31m    suggestion =\u001b[0m\n\u001b[0m                 ^\u001b[0m\n\u001b[0;31mSyntaxError\u001b[0m\u001b[0;31m:\u001b[0m invalid syntax\n"
     ]
    }
   ],
   "source": [
    "sbp = int(input(\"請輸入收縮壓:\"))\n",
    "dbp = int(input(\"請輸入舒張壓:\"))\n",
    "suggestion = \"\""
   ]
  },
  {
   "cell_type": "code",
   "execution_count": null,
   "metadata": {},
   "outputs": [],
   "source": [
    "sbp = int(input(\"請輸入收縮壓:\"))\n",
    "dbp = int(input(\"請輸入舒張壓:\"))\n",
    "suggestion = \"\"\n",
    "\n",
    "if (sbp < 120) and (dbp <80) :\n",
    "    print(\"正常\")\n",
    "elif (sbp >= 140) or (dbp >= 90):\n",
    "    print(\"高血壓二期\")\n",
    "elif (120 <= sbp < 129) and dbp < 80:\n",
    "    print(\"血壓升高\")\n",
    "elif (sbp >= 130) and (dbp < 80):\n",
    "    print(\"單純收縮期高血壓\")\n",
    "elif (130 <= sbp <= 139) or (80 <= dbp <= 89):\n",
    "    print(\"高血壓一期\")\n",
    "\n",
    "\n",
    "\n"
   ]
  },
  {
   "cell_type": "code",
   "execution_count": 53,
   "metadata": {},
   "outputs": [
    {
     "name": "stdout",
     "output_type": "stream",
     "text": [
      "高血壓一期\n"
     ]
    }
   ],
   "source": [
    "#作業2\n",
    "sbp = int(input(\"請輸入收縮壓:\"))\n",
    "dbp = int(input(\"請輸入舒張壓:\"))\n",
    "suggestion = \"\"\n",
    "\n",
    "if (sbp < 120) and (dbp <80) :\n",
    "    suggestion = \"正常\"\n",
    "elif (sbp >= 140) or (dbp >= 90):\n",
    "    suggestion = \"高血壓二期\"\n",
    "elif (120 <= sbp < 129) and dbp < 80:\n",
    "    suggestion = \"血壓升高\"\n",
    "elif (sbp >= 130) and (dbp < 80):\n",
    "    suggestion = \"單純收縮期高血壓\"\n",
    "elif (130 <= sbp <= 139) or (80 <= dbp <= 89):\n",
    "    suggestion = \"高血壓一期\"\n",
    "print(suggestion)"
   ]
  }
 ],
 "metadata": {
  "kernelspec": {
   "display_name": "Python 3",
   "language": "python",
   "name": "python3"
  },
  "language_info": {
   "codemirror_mode": {
    "name": "ipython",
    "version": 3
   },
   "file_extension": ".py",
   "mimetype": "text/x-python",
   "name": "python",
   "nbconvert_exporter": "python",
   "pygments_lexer": "ipython3",
   "version": "3.10.13"
  }
 },
 "nbformat": 4,
 "nbformat_minor": 2
}
